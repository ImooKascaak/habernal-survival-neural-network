{
 "cells": [
  {
   "cell_type": "code",
   "execution_count": null,
   "metadata": {},
   "outputs": [],
   "source": [
    "# -*- coding: utf-8 -*-\n",
    "# \n",
    "# Final project to course Artificial Neural Networks (Spring 2020)\n",
    "# \n",
    "# Author: Imrich Kascak\n",
    "# E-mail: er1602@edu.hmu.gr\n",
    "# \n",
    "# Used dataset: Haberman's Survival Data Set\n",
    "# URL of dataset: https://archive.ics.uci.edu/ml/datasets/Haberman%27s+Survival\n",
    "# \n",
    "# ================================================================================="
   ]
  },
  {
   "cell_type": "code",
   "execution_count": 1,
   "metadata": {},
   "outputs": [],
   "source": [
    "import numpy as np\n",
    "import pylab as pl\n",
    "import pandas as pd\n",
    "import neurolab as nl\n",
    "import matplotlib.pyplot as plt\n",
    "from mpl_toolkits.mplot3d import Axes3D\n",
    "import seaborn as sns\n",
    "# sns.set()\n",
    "\n",
    "import os\n",
    "\n",
    "from sklearn.model_selection import train_test_split\n",
    "from sklearn import preprocessing\n",
    "from sklearn.cluster import KMeans\n",
    "from sklearn.metrics import silhouette_score"
   ]
  },
  {
   "cell_type": "code",
   "execution_count": 2,
   "metadata": {},
   "outputs": [],
   "source": [
    "# Step 1 - Load data\n",
    "data = pd.DataFrame(pd.read_csv(os.getcwd() + '/data/Haberman\\'s Survival.data', header=None, names=['age', 'year_operation', 'positive_axillary_nodes', 'survived_after_5_years']))\n",
    "X = (data).to_numpy()[:,:3]\n",
    "T = (data).to_numpy()[:,3]\n",
    "\n",
    "# Target transform\n",
    "# class 1 --> 0 -- survived 5 years and longer\n",
    "# class 2 --> 1 -- died within 5 years\n",
    "val_map = {1: [0], 2: [1]}\n",
    "T = np.array([val_map[t] for t in T])\n",
    "data['survived_after_5_years'] = data['survived_after_5_years'].map({1: 0, 2: 1})"
   ]
  },
  {
   "cell_type": "code",
   "execution_count": null,
   "metadata": {},
   "outputs": [],
   "source": [
    "# Visualization of input data\n",
    "sns.pairplot(data, hue='survived_after_5_years', size=4)\n",
    "plt.show()"
   ]
  },
  {
   "cell_type": "code",
   "execution_count": null,
   "metadata": {
    "scrolled": true
   },
   "outputs": [],
   "source": [
    "# Step 3 - Pre-process data using given formula\n",
    "X_n = np.empty([306,3])\n",
    "for i in range(3):\n",
    "    Xmin = np.amin(X[:,i])\n",
    "    Xmax = np.amax(X[:,i])\n",
    "    X_n[:,i] = - ((X[:,i] - Xmin) / (Xmax - Xmin)) + 1\n",
    "\n",
    "# Pre-process data using MinMaxScaler()\n",
    "min_max_scaler = preprocessing.MinMaxScaler()\n",
    "X_scaled = min_max_scaler.fit_transform(X)"
   ]
  },
  {
   "cell_type": "code",
   "execution_count": null,
   "metadata": {},
   "outputs": [],
   "source": [
    "# Choose value to further processing X_n / X_scaled\n",
    "X_process = X_scaled\n",
    "\n",
    "# Setting values\n",
    "train_size = 0.90\n",
    "test_size = 0.10\n",
    "\n",
    "hidden_layer = 4\n",
    "output_layer = 1\n",
    "epochs = 50\n",
    "lr = 0.4\n",
    "goal = 1e-5"
   ]
  },
  {
   "cell_type": "code",
   "execution_count": null,
   "metadata": {},
   "outputs": [],
   "source": [
    "# Step 3 - Split data into training and test set\n",
    "X_train, X_test, y_train, y_test = train_test_split(X_process, T, train_size=train_size, test_size=test_size)\n",
    "\n",
    "# Step 4 - Create a neural network (Multilayer feed forward perceptron)\n",
    "net = nl.net.newff(nl.tool.minmax(X_process),[hidden_layer,output_layer])\n",
    "\n",
    "# Change the transfer function for the output layer\n",
    "net.layers[-1].transf = nl.trans.LogSig() # output layer\n",
    "net.layers[0].transf = nl.trans.LogSig() # hidden layer\n",
    "net.layers[1].transf = nl.trans.LogSig() # hidden layer\n",
    "\n",
    "# Train the network\n",
    "error = net.trainf = nl.train.train_rprop(net, X_train, y_train, epochs=epochs, show=10, lr=lr, goal=goal)"
   ]
  },
  {
   "cell_type": "code",
   "execution_count": null,
   "metadata": {},
   "outputs": [],
   "source": [
    "# Plot error\n",
    "plt.plot(error)\n",
    "plt.xlabel('Epoch number')\n",
    "plt.ylabel('Train error')\n",
    "plt.grid()\n",
    "plt.show()"
   ]
  },
  {
   "cell_type": "code",
   "execution_count": null,
   "metadata": {},
   "outputs": [],
   "source": [
    "# Simulate network\n",
    "out = net.sim(X_test)\n",
    "out = np.around(out)\n",
    "\n",
    "# Compare the results\n",
    "print(np.array_equal(out, y_test))\n",
    "accuracy = np.mean(out == y_test)\n",
    "accuracy_percentage = round(accuracy * 100, 2)\n",
    "print(accuracy)\n",
    "print(accuracy_percentage, '%')"
   ]
  },
  {
   "cell_type": "code",
   "execution_count": null,
   "metadata": {},
   "outputs": [],
   "source": [
    "# Compare the results\n",
    "plt.figure(1)\n",
    "plt.subplot(2,1,1)\n",
    "plt.plot(out,'ro')\n",
    "plt.ylabel('Class')\n",
    "plt.xlabel('Sample')\n",
    "plt.title('Simulation output')\n",
    "plt.grid(True)\n",
    "\n",
    "plt.subplot(2,1,2)\n",
    "plt.plot(y_test,'ro')\n",
    "plt.ylabel('Class')\n",
    "plt.xlabel('Sample')\n",
    "plt.title('y_test')\n",
    "plt.grid(True)\n",
    "\n",
    "plt.tight_layout()\n",
    "plt.show()"
   ]
  },
  {
   "cell_type": "code",
   "execution_count": null,
   "metadata": {},
   "outputs": [],
   "source": [
    "# Compare 10 random patterns\n",
    "length = 10\n",
    "chosen_out = []\n",
    "chosen_y_test = []\n",
    "rand_numbers = np.sort(np.random.randint(len(y_test), size=(length)))\n",
    "for i in rand_numbers:\n",
    "    chosen_out.append(out[i])\n",
    "    chosen_y_test.append(y_test[i])\n",
    "\n",
    "plt.figure(1)\n",
    "plt.subplot(2,1,1)\n",
    "# create an index for each tick position\n",
    "xi = list(range(length))\n",
    "plt.plot(chosen_out,'ro')\n",
    "plt.xticks(xi, rand_numbers)\n",
    "plt.ylabel('Class')\n",
    "plt.xlabel('Sample')\n",
    "plt.title('Simulation output')\n",
    "plt.grid(True)\n",
    "\n",
    "plt.subplot(2,1,2)\n",
    "plt.plot(chosen_y_test,'ro')\n",
    "plt.xticks(xi, rand_numbers)\n",
    "plt.ylabel('Class')\n",
    "plt.xlabel('Sample')\n",
    "plt.title('y_test')\n",
    "plt.grid(True)\n",
    "\n",
    "plt.tight_layout()\n",
    "plt.show()"
   ]
  },
  {
   "cell_type": "code",
   "execution_count": null,
   "metadata": {},
   "outputs": [],
   "source": [
    "# Summary of all split rates (info in documentation)\n",
    "results = [74.18, 74.39, 76.36, 78.23, 82.26]\n",
    "split_rates = ['50:50', '60:40', '70:30', '80:20', '90:10']\n",
    "xi = list(range(5))\n",
    "plt.plot(results, marker='o', linestyle='--', color='darkgreen', label='Mean value')\n",
    "plt.xticks(xi, split_rates)\n",
    "plt.ylabel('Accuracy (%)')\n",
    "plt.xlabel('Split rate')\n",
    "plt.title('Summary')\n",
    "plt.grid(True)\n",
    "plt.legend()\n",
    "plt.show()"
   ]
  },
  {
   "cell_type": "code",
   "execution_count": null,
   "metadata": {},
   "outputs": [],
   "source": [
    "# \n",
    "# \n",
    "# \n",
    "# \n",
    "# \n",
    "# \n",
    "# Kohonen network (unsupervised learning)\n",
    "# \n",
    "# \n",
    "# \n",
    "# \n",
    "# \n",
    "# "
   ]
  },
  {
   "cell_type": "code",
   "execution_count": 3,
   "metadata": {},
   "outputs": [],
   "source": [
    "# Step 1 - Load data\n",
    "data = pd.DataFrame(pd.read_csv(os.getcwd() + '/data/Haberman\\'s Survival.data', header=None, names=['age', 'year_operation', 'positive_axillary_nodes', 'survived_after_5_years']))\n",
    "X = (data).to_numpy()[:,:3]"
   ]
  },
  {
   "cell_type": "code",
   "execution_count": 4,
   "metadata": {},
   "outputs": [],
   "source": [
    "# Scale the data [0,1]\n",
    "min_max_scaler = preprocessing.MinMaxScaler()\n",
    "X_k = min_max_scaler.fit_transform(X)"
   ]
  },
  {
   "cell_type": "code",
   "execution_count": null,
   "metadata": {},
   "outputs": [],
   "source": [
    "# Clustering data - calculate distortion for a range of number of cluster\n",
    "distortions = []\n",
    "for i in range(1, 11):\n",
    "    km = KMeans(n_clusters=i, init='random', n_init=10, max_iter=300, tol=1e-04, random_state=0)\n",
    "    km.fit(X_k)\n",
    "    distortions.append(km.inertia_)\n",
    "\n",
    "plt.plot(range(1, 11), distortions, marker='o')\n",
    "plt.xlabel('Number of clusters')\n",
    "plt.ylabel('Distortion')\n",
    "plt.show()"
   ]
  },
  {
   "cell_type": "code",
   "execution_count": null,
   "metadata": {},
   "outputs": [],
   "source": [
    "# Create a Kohonen neural network\n",
    "koh_net = nl.net.newc(nl.tool.minmax(X_k), 2)\n",
    "\n",
    "# Train the network with rule: Winner Take All algoritm (WTA)\n",
    "error = koh_net.trainf = nl.train.train_wta(koh_net, X_k, epochs=100, show=10)"
   ]
  },
  {
   "cell_type": "code",
   "execution_count": null,
   "metadata": {},
   "outputs": [],
   "source": [
    "# Plot results\n",
    "plt.figure(1)\n",
    "plt.title('Classification Problem')\n",
    "plt.subplot(2,1,1)\n",
    "plt.plot(error)\n",
    "plt.xlabel('Epoch number')\n",
    "plt.ylabel('error (default MAE)')\n",
    "w = koh_net.layers[0].np['w']"
   ]
  },
  {
   "cell_type": "code",
   "execution_count": null,
   "metadata": {},
   "outputs": [],
   "source": [
    "# Plot results\n",
    "fig = plt.figure(1)\n",
    "ax = fig.add_subplot(111, projection='3d')\n",
    "ax.plot(X_k[:,0], X_k[:,1], X_k[:,2], '.')\n",
    "ax.plot(w[:,0], w[:,1], w[:,2], 'p')\n",
    "plt.tight_layout()\n",
    "plt.legend(['train samples', 'train centers'])\n",
    "plt.show()"
   ]
  },
  {
   "cell_type": "code",
   "execution_count": null,
   "metadata": {},
   "outputs": [],
   "source": []
  }
 ],
 "metadata": {
  "kernelspec": {
   "display_name": "'Python Interactive'",
   "language": "python",
   "name": "0f9c81e2-5cf5-4753-8136-0b8d2c3d8ff7"
  },
  "language_info": {
   "codemirror_mode": {
    "name": "ipython",
    "version": 3
   },
   "file_extension": ".py",
   "mimetype": "text/x-python",
   "name": "python",
   "nbconvert_exporter": "python",
   "pygments_lexer": "ipython3",
   "version": "3.8.0"
  }
 },
 "nbformat": 4,
 "nbformat_minor": 4
}
